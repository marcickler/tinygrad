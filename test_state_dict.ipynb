{
 "cells": [
  {
   "cell_type": "code",
   "id": "initial_id",
   "metadata": {
    "collapsed": true,
    "ExecuteTime": {
     "end_time": "2025-08-27T20:21:39.936771Z",
     "start_time": "2025-08-27T20:21:39.933306Z"
    }
   },
   "source": [
    "import os\n",
    "os.environ[\"DEBUG\"] = \"5\"\n",
    "from tinygrad import Tensor, dtypes\n",
    "from tinygrad import nn\n",
    "from tinygrad.nn.state import load_state_dict, safe_load\n",
    "from tinygrad.helpers import fetch\n",
    "from tinygrad.uop.ops import Ops, buffers  # buffers is a UOp→Buffer cache\n",
    "\n",
    "def is_realized(t: Tensor) -> bool:\n",
    "    u = t.uop\n",
    "    if u.op == Ops.BUFFER:          # base buffer\n",
    "        return u in buffers\n",
    "    if u.op == Ops.BUFFER_VIEW:     # view of a base buffer\n",
    "        return u.src[0] in buffers  # the base BUFFER is u.src[0]\n",
    "    return False"
   ],
   "outputs": [],
   "execution_count": 21
  },
  {
   "metadata": {
    "ExecuteTime": {
     "end_time": "2025-08-27T20:10:27.704288Z",
     "start_time": "2025-08-27T20:10:27.653294Z"
    }
   },
   "cell_type": "code",
   "source": [
    "class FakeModel:\n",
    "    def __init__(self):\n",
    "        self.a = nn.Linear(128, 128)\n",
    "\n",
    "fake_state_dict = {\"a.weight\": Tensor.empty((128, 128), dtype=dtypes.float32).realize(),\n",
    "                   \"a.bias\": Tensor.empty(128, dtype=dtypes.float32).realize()}"
   ],
   "id": "1dbdcd352526903a",
   "outputs": [
    {
     "name": "stdout",
     "output_type": "stream",
     "text": [
      "scheduled 16 kernels in 12.56 ms\n",
      "*** METAL     34 r_\u001B[34m128\u001B[0m\u001B[90m_\u001B[0m\u001B[36m32\u001B[0m\u001B[90m_\u001B[0m\u001B[33m4\u001B[0m\u001B[90m_\u001B[0m\u001B[31m4096\u001B[0m\u001B[90m_\u001B[0m\u001B[35m4\u001B[0m\u001B[90m\u001B[0m                            arg  1 mem  0.00 GB tm     51.54us/     1.07ms (     0.87 GFLOPS    1.3|1.3     GB/s) ['randn']\n",
      "*** METAL     35 E_\u001B[90mn3\u001B[0m                                         arg  1 mem  0.00 GB tm      7.00us/     1.08ms (     0.00 GFLOPS    0.0|0.0     GB/s) ['uniform']\n",
      "*** METAL     36 E_\u001B[90mn4\u001B[0m                                         arg  2 mem  0.00 GB tm      6.38us/     1.09ms (     0.00 GFLOPS    0.0|0.0     GB/s) ['uniform']\n",
      "#include <metal_stdlib>\n",
      "using namespace metal;\n",
      "kernel void E_n7(device unsigned int* data0_1, device unsigned int* data1_1, uint3 gid [[threadgroup_position_in_grid]], uint3 lid [[thread_position_in_threadgroup]]) {\n",
      "  unsigned int val0 = (*(data1_1+0));\n",
      "  *(data0_1+0) = (val0+16384u);\n",
      "}\n",
      "\u001B[32m*** METAL     37\u001B[0m E_\u001B[90mn7\u001B[0m                                         arg  2 mem  0.00 GB tm      8.38us/     1.10ms (     0.00 GFLOPS    0.0|0.0     GB/s) ['uniform']\n",
      "*** METAL     38 E_\u001B[90mn4\u001B[0m                                         arg  2 mem  0.00 GB tm      6.62us/     1.10ms (     0.00 GFLOPS    0.0|0.0     GB/s) ['uniform']\n",
      "*** METAL     39 E_\u001B[90mn7\u001B[0m                                         arg  2 mem  0.00 GB tm      6.75us/     1.11ms (     0.00 GFLOPS    0.0|0.0     GB/s) ['uniform']\n",
      "*** METAL     40 E_\u001B[90mn4\u001B[0m                                         arg  2 mem  0.00 GB tm      6.29us/     1.11ms (     0.00 GFLOPS    0.0|0.0     GB/s) ['uniform']\n",
      "*** METAL     41 E_\u001B[90mn7\u001B[0m                                         arg  2 mem  0.00 GB tm      6.62us/     1.12ms (     0.00 GFLOPS    0.0|0.0     GB/s) ['uniform']\n",
      "*** METAL     42 E_\u001B[90mn4\u001B[0m                                         arg  2 mem  0.00 GB tm      6.38us/     1.13ms (     0.00 GFLOPS    0.0|0.0     GB/s) ['uniform']\n",
      "*** METAL     43 E_\u001B[90mn7\u001B[0m                                         arg  2 mem  0.00 GB tm      6.71us/     1.13ms (     0.00 GFLOPS    0.0|0.0     GB/s) ['uniform']\n",
      "*** METAL     44 E_\u001B[90mn4\u001B[0m                                         arg  2 mem  0.00 GB tm      6.42us/     1.14ms (     0.00 GFLOPS    0.0|0.0     GB/s) ['uniform']\n",
      "#include <metal_stdlib>\n",
      "using namespace metal;\n",
      "kernel void E_n8(device unsigned int* data0_1, device unsigned int* data1_1, uint3 gid [[threadgroup_position_in_grid]], uint3 lid [[thread_position_in_threadgroup]]) {\n",
      "  unsigned int val0 = (*(data1_1+0));\n",
      "  *(data0_1+0) = (val0+32768u);\n",
      "}\n",
      "\u001B[32m*** METAL     45\u001B[0m E_\u001B[90mn8\u001B[0m                                         arg  2 mem  0.00 GB tm      8.21us/     1.15ms (     0.00 GFLOPS    0.0|0.0     GB/s) ['randn']\n",
      "*** METAL     46 E_\u001B[90m\u001B[0m                                           arg  2 mem  0.00 GB tm      6.75us/     1.16ms (     0.00 GFLOPS    0.0|0.0     GB/s) ['randn']\n",
      "*** METAL     47 E_\u001B[34m128\u001B[0m\u001B[90m_\u001B[0m\u001B[36m32\u001B[0m\u001B[90m_\u001B[0m\u001B[33m4\u001B[0m\u001B[90m\u001B[0m                                   arg  4 mem  0.00 GB tm    306.58us/     1.46ms (     6.79 GFLOPS    0.4|0.6     GB/s) ['randn']\n",
      "*** METAL     48 E_\u001B[34m128\u001B[0m\u001B[90m_\u001B[0m\u001B[36m32\u001B[0m\u001B[90m_\u001B[0m\u001B[33m2\u001B[0m\u001B[90m_\u001B[0m\u001B[33m4\u001B[0m\u001B[90m\u001B[0m                                 arg  5 mem  0.00 GB tm     15.83us/     1.48ms (   131.42 GFLOPS   16.6|19.7    GB/s) ['randn']\n",
      "*** METAL     49 E_\u001B[34m128\u001B[0m\u001B[90m_\u001B[0m\u001B[36m32\u001B[0m\u001B[90m_\u001B[0m\u001B[33m4\u001B[0m\u001B[90mn1\u001B[0m                                 arg  2 mem  0.00 GB tm     11.87us/     1.49ms (    11.04 GFLOPS   16.6|16.6    GB/s) ['randn']\n",
      "scheduled 6 kernels in 5.35 ms\n",
      "*** METAL     50 r_\u001B[34m128\u001B[0m\u001B[90m_\u001B[0m\u001B[32m16\u001B[0m\u001B[90m_\u001B[0m\u001B[31m8\u001B[0m\u001B[90m\u001B[0m                                   arg  1 mem  0.00 GB tm    281.75us/     1.77ms (     0.18 GFLOPS    0.0|0.5     GB/s) ['randn']\n",
      "*** METAL     51 E_\u001B[90mn1\u001B[0m                                         arg  1 mem  0.00 GB tm      7.04us/     1.78ms (     0.00 GFLOPS    0.0|0.0     GB/s) ['randn']\n",
      "*** METAL     52 E_\u001B[90mn2\u001B[0m                                         arg  2 mem  0.00 GB tm      7.00us/     1.79ms (     0.00 GFLOPS    0.0|0.0     GB/s) ['randn']\n",
      "*** METAL     53 E_\u001B[36m32\u001B[0m\u001B[90m_\u001B[0m\u001B[33m4\u001B[0m\u001B[90m\u001B[0m                                       arg  4 mem  0.00 GB tm     14.88us/     1.80ms (     1.09 GFLOPS    0.1|0.1     GB/s) ['randn']\n",
      "*** METAL     54 E_\u001B[34m4\u001B[0m\u001B[90m_\u001B[0m\u001B[36m32\u001B[0m\u001B[90m_\u001B[0m\u001B[33m2\u001B[0m\u001B[90m\u001B[0m                                     arg  5 mem  0.00 GB tm      9.50us/     1.81ms (     1.75 GFLOPS    0.2|0.4     GB/s) ['randn']\n",
      "*** METAL     55 E_\u001B[36m32\u001B[0m\u001B[90m_\u001B[0m\u001B[33m4\u001B[0m\u001B[90mn1\u001B[0m                                     arg  2 mem  0.00 GB tm     11.87us/     1.82ms (     0.09 GFLOPS    0.1|0.1     GB/s) ['randn']\n"
     ]
    }
   ],
   "execution_count": 15
  },
  {
   "metadata": {
    "ExecuteTime": {
     "end_time": "2025-08-27T20:10:28.208157Z",
     "start_time": "2025-08-27T20:10:28.200004Z"
    }
   },
   "cell_type": "code",
   "source": [
    "model = FakeModel()\n",
    "_ = load_state_dict(model, fake_state_dict, old=True)"
   ],
   "id": "c8b1363862cd376a",
   "outputs": [
    {
     "name": "stderr",
     "output_type": "stream",
     "text": [
      "ram used:  0.00 GB, a.bias                                            : 100%|█| \n"
     ]
    },
    {
     "name": "stdout",
     "output_type": "stream",
     "text": [
      "loaded weights in   2.67 ms, 0.00 GB loaded at 0.00 GB/s\n"
     ]
    }
   ],
   "execution_count": 16
  },
  {
   "metadata": {
    "ExecuteTime": {
     "end_time": "2025-08-27T20:10:29.801269Z",
     "start_time": "2025-08-27T20:10:29.706365Z"
    }
   },
   "cell_type": "code",
   "source": [
    "weights_url = 'https://huggingface.co/stabilityai/stable-diffusion-2-1/resolve/main/v2-1_768-ema-pruned.safetensors'\n",
    "weights_fn  = fetch(weights_url, os.path.basename(str(weights_url)))\n",
    "sd_state_dict = safe_load(weights_fn)"
   ],
   "id": "2d75480de67301d7",
   "outputs": [
    {
     "name": "stdout",
     "output_type": "stream",
     "text": [
      "opened device DISK:/Users/marc/Library/Caches/tinygrad/downloads/v2-1_768-ema-pruned.safetensors from pid:5077\n",
      "\u001B[32m*** DISK:/U   56\u001B[0m \u001B[33mview        8 @ 0         \u001B[0m                   arg  2 mem  0.00 GB \n",
      "\u001B[32m*** DISK:/U   57\u001B[0m \u001B[33mview   167566 @ 8         \u001B[0m                   arg  2 mem  0.00 GB \n"
     ]
    }
   ],
   "execution_count": 17
  },
  {
   "metadata": {
    "ExecuteTime": {
     "end_time": "2025-08-27T20:21:55.053425Z",
     "start_time": "2025-08-27T20:21:55.049988Z"
    }
   },
   "cell_type": "code",
   "source": "is_realized(sd_state_dict[\"alphas_cumprod\"])",
   "id": "8725492ce4999124",
   "outputs": [
    {
     "data": {
      "text/plain": [
       "False"
      ]
     },
     "execution_count": 23,
     "metadata": {},
     "output_type": "execute_result"
    }
   ],
   "execution_count": 23
  },
  {
   "metadata": {},
   "cell_type": "code",
   "outputs": [],
   "execution_count": null,
   "source": "",
   "id": "2dd1eac89ebb0ff5"
  }
 ],
 "metadata": {
  "kernelspec": {
   "display_name": "Python 3",
   "language": "python",
   "name": "python3"
  },
  "language_info": {
   "codemirror_mode": {
    "name": "ipython",
    "version": 2
   },
   "file_extension": ".py",
   "mimetype": "text/x-python",
   "name": "python",
   "nbconvert_exporter": "python",
   "pygments_lexer": "ipython2",
   "version": "2.7.6"
  }
 },
 "nbformat": 4,
 "nbformat_minor": 5
}
